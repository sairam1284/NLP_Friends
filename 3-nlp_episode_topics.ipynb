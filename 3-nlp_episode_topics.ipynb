{
 "cells": [
  {
   "cell_type": "markdown",
   "metadata": {},
   "source": [
    "# Part 3 - NLP to extract Themes discussed \n",
    "1. Preliminary Cleaning\n",
    "2. Build common Modeling Functions\n",
    "3. Topic Modeling\n",
    "    * LSA\n",
    "    * Corex\n",
    "4. Merge predictions with Main Dataframe\n",
    "5. Making sense of the data\n"
   ]
  },
  {
   "cell_type": "code",
   "execution_count": 41,
   "metadata": {},
   "outputs": [],
   "source": [
    "import numpy as np\n",
    "import re\n",
    "import string\n",
    "import nltk\n",
    "import sklearn\n",
    "from nltk.tokenize import MWETokenizer \n",
    "from nltk import word_tokenize,sent_tokenize\n",
    "from nltk.corpus import stopwords\n",
    "import pandas as pd\n",
    "import seaborn as sns\n",
    "pd.set_option('display.max_columns', 50)\n",
    "\n",
    "from sklearn.feature_extraction.text import CountVectorizer, TfidfVectorizer\n",
    "from sklearn.decomposition import LatentDirichletAllocation\n",
    "\n",
    "from sklearn.decomposition import TruncatedSVD\n",
    "from sklearn.decomposition import NMF\n",
    "from sklearn.metrics.pairwise import cosine_similarity\n",
    "\n",
    "import numpy as np\n",
    "import scipy.sparse as ss\n",
    "import matplotlib.pyplot as plt\n",
    "%matplotlib inline"
   ]
  },
  {
   "cell_type": "code",
   "execution_count": 2,
   "metadata": {},
   "outputs": [],
   "source": [
    "df = pd.read_pickle('initial_test_dataframe.pkl')\n"
   ]
  },
  {
   "cell_type": "code",
   "execution_count": 65,
   "metadata": {},
   "outputs": [
    {
     "data": {
      "text/html": [
       "<div>\n",
       "<style scoped>\n",
       "    .dataframe tbody tr th:only-of-type {\n",
       "        vertical-align: middle;\n",
       "    }\n",
       "\n",
       "    .dataframe tbody tr th {\n",
       "        vertical-align: top;\n",
       "    }\n",
       "\n",
       "    .dataframe thead th {\n",
       "        text-align: right;\n",
       "    }\n",
       "</style>\n",
       "<table border=\"1\" class=\"dataframe\">\n",
       "  <thead>\n",
       "    <tr style=\"text-align: right;\">\n",
       "      <th></th>\n",
       "      <th>index</th>\n",
       "      <th>episode</th>\n",
       "      <th>season_number</th>\n",
       "      <th>episode_number</th>\n",
       "      <th>speaker</th>\n",
       "      <th>dialogue</th>\n",
       "      <th>writers</th>\n",
       "      <th>before_speaker</th>\n",
       "      <th>after_speaker</th>\n",
       "      <th>sentence_length</th>\n",
       "      <th>dial_clean</th>\n",
       "    </tr>\n",
       "  </thead>\n",
       "  <tbody>\n",
       "    <tr>\n",
       "      <th>0</th>\n",
       "      <td>3</td>\n",
       "      <td>The One Where Monica Gets a New Roomate (The P...</td>\n",
       "      <td>1</td>\n",
       "      <td>1</td>\n",
       "      <td>Phoebe</td>\n",
       "      <td>Wait, does he eat chalk?</td>\n",
       "      <td>Marta Kauffman &amp; David Crane</td>\n",
       "      <td>NaN</td>\n",
       "      <td>Phoebe</td>\n",
       "      <td>6</td>\n",
       "      <td>wait  does he eat chalk</td>\n",
       "    </tr>\n",
       "    <tr>\n",
       "      <th>1</th>\n",
       "      <td>4</td>\n",
       "      <td>The One Where Monica Gets a New Roomate (The P...</td>\n",
       "      <td>1</td>\n",
       "      <td>1</td>\n",
       "      <td>Phoebe</td>\n",
       "      <td>Just, 'cause, I don't want her to go through\\...</td>\n",
       "      <td>Marta Kauffman &amp; David Crane</td>\n",
       "      <td>Phoebe</td>\n",
       "      <td>Monica</td>\n",
       "      <td>16</td>\n",
       "      <td>just   cause  i don t want her to go through\\...</td>\n",
       "    </tr>\n",
       "    <tr>\n",
       "      <th>2</th>\n",
       "      <td>5</td>\n",
       "      <td>The One Where Monica Gets a New Roomate (The P...</td>\n",
       "      <td>1</td>\n",
       "      <td>1</td>\n",
       "      <td>Monica</td>\n",
       "      <td>Okay, everybody relax. This is not even a\\nda...</td>\n",
       "      <td>Marta Kauffman &amp; David Crane</td>\n",
       "      <td>Phoebe</td>\n",
       "      <td>Chandler</td>\n",
       "      <td>21</td>\n",
       "      <td>okay  everybody relax  this is not even a\\nda...</td>\n",
       "    </tr>\n",
       "    <tr>\n",
       "      <th>3</th>\n",
       "      <td>6</td>\n",
       "      <td>The One Where Monica Gets a New Roomate (The P...</td>\n",
       "      <td>1</td>\n",
       "      <td>1</td>\n",
       "      <td>Chandler</td>\n",
       "      <td>Sounds like a date to me.</td>\n",
       "      <td>Marta Kauffman &amp; David Crane</td>\n",
       "      <td>Monica</td>\n",
       "      <td>Chandler</td>\n",
       "      <td>7</td>\n",
       "      <td>sounds like a date to me</td>\n",
       "    </tr>\n",
       "    <tr>\n",
       "      <th>4</th>\n",
       "      <td>7</td>\n",
       "      <td>The One Where Monica Gets a New Roomate (The P...</td>\n",
       "      <td>1</td>\n",
       "      <td>1</td>\n",
       "      <td>Chandler</td>\n",
       "      <td>Alright, so I'm back in high school, I'm\\nsta...</td>\n",
       "      <td>Marta Kauffman &amp; David Crane</td>\n",
       "      <td>Chandler</td>\n",
       "      <td>Chandler</td>\n",
       "      <td>22</td>\n",
       "      <td>alright  so i m back in high school  i m\\nsta...</td>\n",
       "    </tr>\n",
       "  </tbody>\n",
       "</table>\n",
       "</div>"
      ],
      "text/plain": [
       "   index                                            episode  season_number  \\\n",
       "0      3  The One Where Monica Gets a New Roomate (The P...              1   \n",
       "1      4  The One Where Monica Gets a New Roomate (The P...              1   \n",
       "2      5  The One Where Monica Gets a New Roomate (The P...              1   \n",
       "3      6  The One Where Monica Gets a New Roomate (The P...              1   \n",
       "4      7  The One Where Monica Gets a New Roomate (The P...              1   \n",
       "\n",
       "   episode_number   speaker  \\\n",
       "0               1    Phoebe   \n",
       "1               1    Phoebe   \n",
       "2               1    Monica   \n",
       "3               1  Chandler   \n",
       "4               1  Chandler   \n",
       "\n",
       "                                            dialogue  \\\n",
       "0                           Wait, does he eat chalk?   \n",
       "1   Just, 'cause, I don't want her to go through\\...   \n",
       "2   Okay, everybody relax. This is not even a\\nda...   \n",
       "3                          Sounds like a date to me.   \n",
       "4   Alright, so I'm back in high school, I'm\\nsta...   \n",
       "\n",
       "                         writers before_speaker after_speaker  \\\n",
       "0   Marta Kauffman & David Crane            NaN        Phoebe   \n",
       "1   Marta Kauffman & David Crane         Phoebe        Monica   \n",
       "2   Marta Kauffman & David Crane         Phoebe      Chandler   \n",
       "3   Marta Kauffman & David Crane         Monica      Chandler   \n",
       "4   Marta Kauffman & David Crane       Chandler      Chandler   \n",
       "\n",
       "   sentence_length                                         dial_clean  \n",
       "0                6                           wait  does he eat chalk   \n",
       "1               16   just   cause  i don t want her to go through\\...  \n",
       "2               21   okay  everybody relax  this is not even a\\nda...  \n",
       "3                7                          sounds like a date to me   \n",
       "4               22   alright  so i m back in high school  i m\\nsta...  "
      ]
     },
     "execution_count": 65,
     "metadata": {},
     "output_type": "execute_result"
    }
   ],
   "source": [
    "df.head()"
   ]
  },
  {
   "cell_type": "code",
   "execution_count": 4,
   "metadata": {},
   "outputs": [],
   "source": [
    "test_df = df.copy()"
   ]
  },
  {
   "cell_type": "markdown",
   "metadata": {},
   "source": [
    "==============================================================================================================\n",
    "\n",
    "## 1. Preprocessing"
   ]
  },
  {
   "cell_type": "markdown",
   "metadata": {},
   "source": [
    "#### A. Remove character names from the dialogue"
   ]
  },
  {
   "cell_type": "code",
   "execution_count": 14,
   "metadata": {},
   "outputs": [],
   "source": [
    "characters = list(test_df['speaker'].unique())\n",
    "def remove_name(sentence):\n",
    "    sentence = re.sub('[%s]' % re.escape(string.punctuation), ' ', sentence)\n",
    "    words = sentence.split(' ')\n",
    "    sent_clean = ''\n",
    "    for word in words:\n",
    "        if word not in characters:\n",
    "            sent_clean += word + ' '\n",
    "    return sent_clean"
   ]
  },
  {
   "cell_type": "code",
   "execution_count": 15,
   "metadata": {},
   "outputs": [],
   "source": [
    "test_df['dial_clean'] = test_df['dial_clean'].apply(lambda x: remove_name(x))\n"
   ]
  },
  {
   "cell_type": "markdown",
   "metadata": {},
   "source": [
    "#### B. Definte the stop words"
   ]
  },
  {
   "cell_type": "code",
   "execution_count": 46,
   "metadata": {},
   "outputs": [],
   "source": [
    "stop_word = stopwords.words('english')\n",
    "# accepted_words = ['i','me','my','myself','we','our','you','he','him','his','she','her',\n",
    "#  'they','them','what','which','who','whom','but','because','against','when','where','why','how',\n",
    "#  'no','nor','not']\n",
    "# final_stops = [x for x in stop_word if x not in accepted_words]\n",
    "# print(final_stops)"
   ]
  },
  {
   "cell_type": "markdown",
   "metadata": {},
   "source": [
    "## 2. Build the common functions"
   ]
  },
  {
   "cell_type": "code",
   "execution_count": 18,
   "metadata": {},
   "outputs": [],
   "source": [
    "def vectorize(dataframe, column, vectorizer, stops, min_df = 0, max_df = 1.0, n_grams = (1, 1)):\n",
    "    if vectorizer == \"cv\":\n",
    "        vec = CountVectorizer(stop_words=stops, binary=True, min_df = min_df, max_df = max_df, ngram_range=n_grams)\n",
    "    elif vectorizer == \"tfidf\":\n",
    "        vec = TfidfVectorizer(stop_words=stops, binary=True, min_df = min_df, max_df = max_df, ngram_range=n_grams)\n",
    "\n",
    "    \n",
    "    doc_word = vec.fit_transform(dataframe[column])\n",
    "    feature_names = vec.get_feature_names()\n",
    "    id2word = dict((v, k) for k, v in vec.vocabulary_.items())\n",
    "    \n",
    "    return doc_word, feature_names, id2word"
   ]
  },
  {
   "cell_type": "code",
   "execution_count": 19,
   "metadata": {},
   "outputs": [],
   "source": [
    "def lsa(doc_word, feature_names, num_topics):\n",
    "    model = TruncatedSVD(num_topics)\n",
    "    doc_topic = model.fit_transform(doc_word)\n",
    "    for ix, topic in enumerate(model.components_):\n",
    "        print(\"\\nTopic \", ix)\n",
    "        print(\", \".join([feature_names[i] for i in topic.argsort()[:-21:-1]]))\n",
    "\n",
    "def nmf(doc_word, feature_names, num_topics):\n",
    "    model = NMF(num_topics)\n",
    "    doc_topic = model.fit_transform(doc_word)\n",
    "    for ix, topic in enumerate(model.components_):\n",
    "        print(\"\\nTopic \", ix)\n",
    "        print(\", \".join([feature_names[i] for i in topic.argsort()[:-21:-1]]))\n",
    "\n",
    "def lda(doc_word, feature_names, id2word, num_topics):\n",
    "    corpus = matutils.Sparse2Corpus(doc_word.transpose())\n",
    "    model = models.LdaModel(corpus=corpus, num_topics=num_topics, id2word=id2word, passes=5, random_state=42)\n",
    "    topics = model.print_topics()\n",
    "    for n, topic in topics:\n",
    "        print(\"\\nTopic \", n)\n",
    "        print(topic)"
   ]
  },
  {
   "cell_type": "code",
   "execution_count": 20,
   "metadata": {},
   "outputs": [],
   "source": [
    "\n",
    "def corex(doc_word, feature_names, num_topics, anchors, anchor_strength):\n",
    "    words = list(np.asarray(feature_names))\n",
    "    model = corextopic.Corex(n_hidden=num_topics, words=words, seed=1, max_iter=200)\n",
    "    model.fit(doc_word, words=words, anchors=anchors, anchor_strength=anchor_strength)\n",
    "\n",
    "    topics = model.get_topics(n_words=30)\n",
    "    print(\"TC: \", model.tc)\n",
    "    for n,topic in enumerate(topics):\n",
    "        topic_words,_ = zip(*topic)\n",
    "        print('{}: \\n'.format(n) + ', '.join(topic_words))"
   ]
  },
  {
   "cell_type": "markdown",
   "metadata": {},
   "source": [
    "==============================================================================================================\n",
    "\n",
    "# 3. Topic Analysis"
   ]
  },
  {
   "cell_type": "markdown",
   "metadata": {},
   "source": [
    "### A. Using LSA to see if I can identify any topics that are discussed: \n",
    "- In the end, LSA did not do a very good job at this  "
   ]
  },
  {
   "cell_type": "code",
   "execution_count": 47,
   "metadata": {
    "scrolled": false
   },
   "outputs": [
    {
     "data": {
      "text/html": [
       "<div>\n",
       "<style scoped>\n",
       "    .dataframe tbody tr th:only-of-type {\n",
       "        vertical-align: middle;\n",
       "    }\n",
       "\n",
       "    .dataframe tbody tr th {\n",
       "        vertical-align: top;\n",
       "    }\n",
       "\n",
       "    .dataframe thead th {\n",
       "        text-align: right;\n",
       "    }\n",
       "</style>\n",
       "<table border=\"1\" class=\"dataframe\">\n",
       "  <thead>\n",
       "    <tr style=\"text-align: right;\">\n",
       "      <th></th>\n",
       "      <th>season_number</th>\n",
       "      <th>episode_number</th>\n",
       "      <th>speaker</th>\n",
       "      <th>dial_clean</th>\n",
       "    </tr>\n",
       "  </thead>\n",
       "  <tbody>\n",
       "    <tr>\n",
       "      <th>0</th>\n",
       "      <td>1</td>\n",
       "      <td>1</td>\n",
       "      <td>Chandler</td>\n",
       "      <td>sounds like a date to me     alright  so i m ...</td>\n",
       "    </tr>\n",
       "    <tr>\n",
       "      <th>1</th>\n",
       "      <td>1</td>\n",
       "      <td>1</td>\n",
       "      <td>Joey</td>\n",
       "      <td>instead of        never had that dream     th...</td>\n",
       "    </tr>\n",
       "    <tr>\n",
       "      <th>2</th>\n",
       "      <td>1</td>\n",
       "      <td>1</td>\n",
       "      <td>Monica</td>\n",
       "      <td>okay  everybody relax  this is not even a\\nda...</td>\n",
       "    </tr>\n",
       "    <tr>\n",
       "      <th>3</th>\n",
       "      <td>1</td>\n",
       "      <td>1</td>\n",
       "      <td>Phoebe</td>\n",
       "      <td>wait  does he eat chalk     just   cause  i d...</td>\n",
       "    </tr>\n",
       "    <tr>\n",
       "      <th>4</th>\n",
       "      <td>1</td>\n",
       "      <td>1</td>\n",
       "      <td>Rachel</td>\n",
       "      <td>oh god monica hi  thank god  i just went to\\n...</td>\n",
       "    </tr>\n",
       "    <tr>\n",
       "      <th>5</th>\n",
       "      <td>1</td>\n",
       "      <td>1</td>\n",
       "      <td>Ross</td>\n",
       "      <td>hi     i just feel like someone reached down...</td>\n",
       "    </tr>\n",
       "    <tr>\n",
       "      <th>6</th>\n",
       "      <td>1</td>\n",
       "      <td>2</td>\n",
       "      <td>Chandler</td>\n",
       "      <td>yeah  i think for us  kissing is pretty much ...</td>\n",
       "    </tr>\n",
       "    <tr>\n",
       "      <th>7</th>\n",
       "      <td>1</td>\n",
       "      <td>2</td>\n",
       "      <td>Joey</td>\n",
       "      <td>yeah  right        y serious          are we ...</td>\n",
       "    </tr>\n",
       "    <tr>\n",
       "      <th>8</th>\n",
       "      <td>1</td>\n",
       "      <td>2</td>\n",
       "      <td>Monica</td>\n",
       "      <td>what you guys don t understand is  for us \\nk...</td>\n",
       "    </tr>\n",
       "    <tr>\n",
       "      <th>9</th>\n",
       "      <td>1</td>\n",
       "      <td>2</td>\n",
       "      <td>Phoebe</td>\n",
       "      <td>oh  yeah        then i ve already seen this o...</td>\n",
       "    </tr>\n",
       "  </tbody>\n",
       "</table>\n",
       "</div>"
      ],
      "text/plain": [
       "   season_number  episode_number   speaker  \\\n",
       "0              1               1  Chandler   \n",
       "1              1               1      Joey   \n",
       "2              1               1    Monica   \n",
       "3              1               1    Phoebe   \n",
       "4              1               1    Rachel   \n",
       "5              1               1      Ross   \n",
       "6              1               2  Chandler   \n",
       "7              1               2      Joey   \n",
       "8              1               2    Monica   \n",
       "9              1               2    Phoebe   \n",
       "\n",
       "                                          dial_clean  \n",
       "0   sounds like a date to me     alright  so i m ...  \n",
       "1   instead of        never had that dream     th...  \n",
       "2   okay  everybody relax  this is not even a\\nda...  \n",
       "3   wait  does he eat chalk     just   cause  i d...  \n",
       "4   oh god monica hi  thank god  i just went to\\n...  \n",
       "5    hi     i just feel like someone reached down...  \n",
       "6   yeah  i think for us  kissing is pretty much ...  \n",
       "7   yeah  right        y serious          are we ...  \n",
       "8   what you guys don t understand is  for us \\nk...  \n",
       "9   oh  yeah        then i ve already seen this o...  "
      ]
     },
     "execution_count": 47,
     "metadata": {},
     "output_type": "execute_result"
    }
   ],
   "source": [
    "#Building the Episode Data Frame\n",
    "episode_df = test_df.groupby([\"season_number\", 'episode_number','speaker'])\n",
    "episode_df = episode_df[\"dial_clean\"].agg(lambda column: \" \".join(column)).reset_index()\n",
    "\n",
    "episode_df.head(10)"
   ]
  },
  {
   "cell_type": "markdown",
   "metadata": {},
   "source": [
    "#### 1st Pass"
   ]
  },
  {
   "cell_type": "code",
   "execution_count": 48,
   "metadata": {
    "scrolled": true
   },
   "outputs": [
    {
     "name": "stdout",
     "output_type": "stream",
     "text": [
      "\n",
      "Topic  0\n",
      "oh, know, yeah, hey, well, okay, right, like, get, gonna, really, think, go, look, one, mean, see, got, uh, come\n",
      "\n",
      "Topic  1\n",
      "love, umm, married, thank, please, much, wait, great, hi, tell, ohh, god, talk, would, mean, honey, wanted, together, said, actually\n",
      "\n",
      "Topic  2\n",
      "ah, man, see, ya, thanks, time, life, guy, two, thing, tomorrow, woman, wanna, need, last, fine, got, thank, big, whole\n",
      "\n",
      "Topic  3\n",
      "got, monica, let, chandler, time, guys, joey, believe, phoebe, wanna, put, make, room, ok, give, god, last, gets, take, could\n",
      "\n",
      "Topic  4\n",
      "us, ok, would, mean, believe, alright, great, god, even, um, love, getting, big, going, already, thought, years, hi, really, guy\n"
     ]
    }
   ],
   "source": [
    "#This is useless\n",
    "doc_word1, feature_names1, id2word1= vectorize(episode_df, 'dial_clean', 'cv', stop_word)\n",
    "lsa(doc_word1, feature_names1, 5)"
   ]
  },
  {
   "cell_type": "markdown",
   "metadata": {},
   "source": [
    "#### 2nd Pass - Adding Stop Words"
   ]
  },
  {
   "cell_type": "code",
   "execution_count": 49,
   "metadata": {},
   "outputs": [],
   "source": [
    "#Adding extra Stop Words\n",
    "extra_stops= ['oh', 'okay', 'yeah', 'right', 'well', 'hey', 'gonna', 'get', 'uh', 'ow', 'huh', 'one', 'ok', \n",
    "              'really', 'um', 'umm', 'things', 'em', 'like', 'say', 'let', 'would', 'may', 'guys', 'something', 'ohh', 'uhh', \n",
    "              'want', 'ho', 'head', 'see', 'go', 'thing', 'got', 'uhm', 'tell', 'could', 'taking', \n",
    "              'used', 'whoa', 'every', 'little', 'yes', 'hi', 'guy', 'sure', 'said', 'wait', 'much', 'gets',\n",
    "             'gotta', 'ever', 'ah', 'thanks', 'better', 'door', 'ya', 'stay', 'put', 'around', 'gave', 'mine', 'wrong']\n",
    "stop_word.extend(extra_stops)"
   ]
  },
  {
   "cell_type": "code",
   "execution_count": 50,
   "metadata": {
    "scrolled": true
   },
   "outputs": [
    {
     "name": "stdout",
     "output_type": "stream",
     "text": [
      "\n",
      "Topic  0\n",
      "know, think, look, mean, come, good, god, going, back, joey, sorry, time, great, ross, chandler, monica, rachel, us, take, make\n",
      "\n",
      "Topic  1\n",
      "great, thank, time, mean, life, love, nothing, whole, tomorrow, getting, actually, need, made, first, fine, lot, feel, everything, told, kinda\n",
      "\n",
      "Topic  2\n",
      "man, two, chandler, back, look, looks, woman, play, game, wanna, good, second, dude, money, five, people, old, face, makes, next\n",
      "\n",
      "Topic  3\n",
      "chandler, joey, first, god, feel, way, even, believe, great, bad, mean, stuff, wanna, nice, always, love, hard, work, thank, cause\n",
      "\n",
      "Topic  4\n",
      "monica, first, long, love, back, coming, wanna, god, people, getting, new, baby, three, still, take, great, time, everyone, find, married\n"
     ]
    }
   ],
   "source": [
    "# Also pretty useless\n",
    "doc_word2, feature_names2, id2word2= vectorize(episode_df, 'dial_clean', 'cv', stop_word)\n",
    "lsa(doc_word2, feature_names2, 5)"
   ]
  },
  {
   "cell_type": "markdown",
   "metadata": {},
   "source": [
    "#### 3rd Pass - Incorating min_df and max_df.  Really improved the results!"
   ]
  },
  {
   "cell_type": "code",
   "execution_count": 52,
   "metadata": {},
   "outputs": [
    {
     "name": "stdout",
     "output_type": "stream",
     "text": [
      "\n",
      "Topic  0\n",
      "telling, couple, open, also, real, year, problem, found, understand, making, sounds, watch, person, somebody, party, sweet, knew, money, anyone, important\n",
      "\n",
      "Topic  1\n",
      "kids, money, dad, year, wedding, spend, christmas, eh, present, kidding, ben, favorite, city, santa, worry, dress, ahh, making, wife, four\n",
      "\n",
      "Topic  2\n",
      "break, women, somebody, thanksgiving, high, open, asked, year, eat, turkey, run, anyone, coffee, count, table, lose, hot, throw, fat, girls\n",
      "\n",
      "Topic  3\n",
      "knew, late, though, eyes, perfect, imagine, kiss, girlfriend, either, end, sounds, working, bathroom, mind, hot, kissed, eh, seeing, coffee, knows\n",
      "\n",
      "Topic  4\n",
      "naked, hot, pants, question, story, food, year, week, dance, ahh, dude, bet, duck, eat, hit, dollars, ha, thanksgiving, bucks, points\n"
     ]
    }
   ],
   "source": [
    "doc_word3, feature_names3, id2word3= vectorize(episode_df, 'dial_clean', 'cv', stop_word, 0.0, .1)\n",
    "lsa(doc_word3, feature_names3, 5)"
   ]
  },
  {
   "cell_type": "markdown",
   "metadata": {},
   "source": [
    "### Using Corex\n",
    "- This provided the clearest topic differences, so I will go with this model moving forward"
   ]
  },
  {
   "cell_type": "code",
   "execution_count": 53,
   "metadata": {},
   "outputs": [],
   "source": [
    "anchor_words = [['wedding', 'married', 'marriage', 'divorce'], ['job','career', 'work', 'office', 'perk'], \n",
    "                ['relationship', 'dating', 'sex'], ['kids', 'ben', 'daughter', 'baby'], \n",
    "                ['mom', 'dad', 'brother', 'sister'], ['fun', 'game', 'coffee', 'cool', 'happy']]"
   ]
  },
  {
   "cell_type": "code",
   "execution_count": 54,
   "metadata": {},
   "outputs": [
    {
     "name": "stdout",
     "output_type": "stream",
     "text": [
      "TC:  73.98819056080728\n",
      "0: \n",
      "married, wedding, marriage, divorce, bride, annulment, getting, marry, groom, carry, weddings, failed, marriages, monica, told, neither, guess, together, divorced, ate, ed, bridesmaid, groomsman, bangs, comfort, everything, congratulations, vegas, wife, case\n",
      "1: \n",
      "work, job, office, career, perk, long, sauce, girlfriend, wanted, chef, family, lame, houses, realised, late, working, going, nooo, mark, choose, tomorrow, leaving, joanna, fooling, zelner, added, smoked, lauren, oklahoma, picks\n",
      "2: \n",
      "sex, relationship, dating, rough, totally, future, second, erin, solved, philange, bro, great, honest, waiting, magic, wanting, question, squeeze, hear, means, date, honesty, noon, frozen, helmet, trail, anchovies, touchie, technical, scratch\n",
      "3: \n",
      "baby, kids, ben, daughter, pregnant, adoption, child, father, favorite, realizes, god, realize, love, babies, name, birth, armadillo, worrying, spits, smooth, erica, kid, doctor, giving, labor, sickness, know, books, talk, daddy\n",
      "4: \n",
      "mom, dad, sister, brother, mm, chances, closes, gross, princess, lake, special, parents, tongue, single, pool, drove, hm, downstairs, lousy, made, ask, understood, sarcastic, kidney, pills, hamster, steam, pearls, godfather, assumed\n",
      "5: \n",
      "fun, happy, cool, game, coffee, cup, playing, wanna, everyone, ahead, taught, dude, trees, sale, joey, bowl, buy, robert, winning, stuffed, pretty, sounds, summer, towards, many, ball, big, think, birthday, write\n",
      "6: \n",
      "cups, went, first, robot, snow, sorry, rock, blows, balloon, three, become, except, shot, bad, rachel, basketball, dresser, chose, menu, outfit, yummy, tails, shaking, finally, business, fair, annoying, million, enters, present\n"
     ]
    }
   ],
   "source": [
    "corex_model = corex(doc_word2, feature_names2, 7, anchor_words, 20)"
   ]
  },
  {
   "cell_type": "code",
   "execution_count": null,
   "metadata": {},
   "outputs": [],
   "source": []
  },
  {
   "cell_type": "markdown",
   "metadata": {},
   "source": [
    "## 4. Merge the corex output with the Episode Dataframe for further analysis"
   ]
  },
  {
   "cell_type": "code",
   "execution_count": 55,
   "metadata": {
    "scrolled": true
   },
   "outputs": [
    {
     "name": "stdout",
     "output_type": "stream",
     "text": [
      "TC:  73.98819056080728\n",
      "0: \n",
      "married, wedding, marriage, divorce, bride, annulment, getting, marry, groom, carry\n",
      "1: \n",
      "work, job, office, career, perk, long, sauce, girlfriend, wanted, chef\n",
      "2: \n",
      "sex, relationship, dating, rough, totally, future, second, erin, solved, philange\n",
      "3: \n",
      "baby, kids, ben, daughter, pregnant, adoption, child, father, favorite, realizes\n",
      "4: \n",
      "mom, dad, sister, brother, mm, chances, closes, gross, princess, lake\n",
      "5: \n",
      "fun, happy, cool, game, coffee, cup, playing, wanna, everyone, ahead\n",
      "6: \n",
      "cups, went, first, robot, snow, sorry, rock, blows, balloon, three\n"
     ]
    }
   ],
   "source": [
    "vec = CountVectorizer(stop_words=stop_word, binary=True)\n",
    "docword = vec.fit_transform(episode_df['dial_clean'])\n",
    "featnames = vec.get_feature_names()\n",
    "\n",
    "words = list(np.asarray(featnames))\n",
    "\n",
    "model = corextopic.Corex(n_hidden=7, words=words, seed=1, max_iter=200)\n",
    "model.fit(docword, words=words, anchors=anchor_words, anchor_strength=20)\n",
    "\n",
    "topics = model.get_topics(n_words=10)\n",
    "print(\"TC: \", model.tc)\n",
    "for n,topic in enumerate(topics):\n",
    "    topic_words,_ = zip(*topic)\n",
    "    print('{}: \\n'.format(n) + ', '.join(topic_words))"
   ]
  },
  {
   "cell_type": "code",
   "execution_count": 56,
   "metadata": {},
   "outputs": [],
   "source": [
    "predictions = pd.DataFrame(model.predict_proba(docword)[0], columns=['topic'+str(i) for i in range(7)])\n"
   ]
  },
  {
   "cell_type": "code",
   "execution_count": 57,
   "metadata": {},
   "outputs": [],
   "source": [
    "topic_dict = {'topic0':\"marriage\",'topic1':\"work\",'topic2':\"dating\",'topic3':\"kids\",\n",
    "              'topic4':\"family\",'topic5':\"hanging out\", 'topic6':\"nothing\"  }"
   ]
  },
  {
   "cell_type": "code",
   "execution_count": 58,
   "metadata": {},
   "outputs": [],
   "source": [
    "predictions = predictions.rename(columns=topic_dict)\n"
   ]
  },
  {
   "cell_type": "code",
   "execution_count": 59,
   "metadata": {},
   "outputs": [],
   "source": [
    "topic_df = episode_df.merge(predictions, how='outer', left_index=True, right_index=True)"
   ]
  },
  {
   "cell_type": "code",
   "execution_count": 60,
   "metadata": {
    "scrolled": true
   },
   "outputs": [
    {
     "data": {
      "text/html": [
       "<div>\n",
       "<style scoped>\n",
       "    .dataframe tbody tr th:only-of-type {\n",
       "        vertical-align: middle;\n",
       "    }\n",
       "\n",
       "    .dataframe tbody tr th {\n",
       "        vertical-align: top;\n",
       "    }\n",
       "\n",
       "    .dataframe thead th {\n",
       "        text-align: right;\n",
       "    }\n",
       "</style>\n",
       "<table border=\"1\" class=\"dataframe\">\n",
       "  <thead>\n",
       "    <tr style=\"text-align: right;\">\n",
       "      <th></th>\n",
       "      <th>season_number</th>\n",
       "      <th>episode_number</th>\n",
       "      <th>speaker</th>\n",
       "      <th>dial_clean</th>\n",
       "      <th>marriage</th>\n",
       "      <th>work</th>\n",
       "      <th>dating</th>\n",
       "      <th>kids</th>\n",
       "      <th>family</th>\n",
       "      <th>hanging out</th>\n",
       "      <th>nothing</th>\n",
       "    </tr>\n",
       "  </thead>\n",
       "  <tbody>\n",
       "    <tr>\n",
       "      <th>0</th>\n",
       "      <td>1</td>\n",
       "      <td>1</td>\n",
       "      <td>Chandler</td>\n",
       "      <td>sounds like a date to me     alright  so i m ...</td>\n",
       "      <td>0.000001</td>\n",
       "      <td>0.999999</td>\n",
       "      <td>0.999999</td>\n",
       "      <td>0.999999</td>\n",
       "      <td>0.000001</td>\n",
       "      <td>0.999999</td>\n",
       "      <td>0.999999</td>\n",
       "    </tr>\n",
       "    <tr>\n",
       "      <th>1</th>\n",
       "      <td>1</td>\n",
       "      <td>1</td>\n",
       "      <td>Joey</td>\n",
       "      <td>instead of        never had that dream     th...</td>\n",
       "      <td>0.999999</td>\n",
       "      <td>0.999999</td>\n",
       "      <td>0.000001</td>\n",
       "      <td>0.000001</td>\n",
       "      <td>0.000001</td>\n",
       "      <td>0.999999</td>\n",
       "      <td>0.000001</td>\n",
       "    </tr>\n",
       "    <tr>\n",
       "      <th>2</th>\n",
       "      <td>1</td>\n",
       "      <td>1</td>\n",
       "      <td>Monica</td>\n",
       "      <td>okay  everybody relax  this is not even a\\nda...</td>\n",
       "      <td>0.999999</td>\n",
       "      <td>0.000001</td>\n",
       "      <td>0.999999</td>\n",
       "      <td>0.000001</td>\n",
       "      <td>0.999999</td>\n",
       "      <td>0.999999</td>\n",
       "      <td>0.000001</td>\n",
       "    </tr>\n",
       "    <tr>\n",
       "      <th>3</th>\n",
       "      <td>1</td>\n",
       "      <td>1</td>\n",
       "      <td>Phoebe</td>\n",
       "      <td>wait  does he eat chalk     just   cause  i d...</td>\n",
       "      <td>0.000001</td>\n",
       "      <td>0.999999</td>\n",
       "      <td>0.000001</td>\n",
       "      <td>0.000001</td>\n",
       "      <td>0.999999</td>\n",
       "      <td>0.000001</td>\n",
       "      <td>0.000001</td>\n",
       "    </tr>\n",
       "    <tr>\n",
       "      <th>4</th>\n",
       "      <td>1</td>\n",
       "      <td>1</td>\n",
       "      <td>Rachel</td>\n",
       "      <td>oh god monica hi  thank god  i just went to\\n...</td>\n",
       "      <td>0.999999</td>\n",
       "      <td>0.999999</td>\n",
       "      <td>0.000001</td>\n",
       "      <td>0.000001</td>\n",
       "      <td>0.000001</td>\n",
       "      <td>0.999999</td>\n",
       "      <td>0.000866</td>\n",
       "    </tr>\n",
       "    <tr>\n",
       "      <th>5</th>\n",
       "      <td>1</td>\n",
       "      <td>1</td>\n",
       "      <td>Ross</td>\n",
       "      <td>hi     i just feel like someone reached down...</td>\n",
       "      <td>0.999999</td>\n",
       "      <td>0.999999</td>\n",
       "      <td>0.000001</td>\n",
       "      <td>0.000001</td>\n",
       "      <td>0.999999</td>\n",
       "      <td>0.999999</td>\n",
       "      <td>0.999999</td>\n",
       "    </tr>\n",
       "    <tr>\n",
       "      <th>6</th>\n",
       "      <td>1</td>\n",
       "      <td>2</td>\n",
       "      <td>Chandler</td>\n",
       "      <td>yeah  i think for us  kissing is pretty much ...</td>\n",
       "      <td>0.000001</td>\n",
       "      <td>0.999999</td>\n",
       "      <td>0.000001</td>\n",
       "      <td>0.000001</td>\n",
       "      <td>0.000001</td>\n",
       "      <td>0.000001</td>\n",
       "      <td>0.999999</td>\n",
       "    </tr>\n",
       "    <tr>\n",
       "      <th>7</th>\n",
       "      <td>1</td>\n",
       "      <td>2</td>\n",
       "      <td>Joey</td>\n",
       "      <td>yeah  right        y serious          are we ...</td>\n",
       "      <td>0.000001</td>\n",
       "      <td>0.000001</td>\n",
       "      <td>0.999999</td>\n",
       "      <td>0.000001</td>\n",
       "      <td>0.000001</td>\n",
       "      <td>0.000001</td>\n",
       "      <td>0.000002</td>\n",
       "    </tr>\n",
       "    <tr>\n",
       "      <th>8</th>\n",
       "      <td>1</td>\n",
       "      <td>2</td>\n",
       "      <td>Monica</td>\n",
       "      <td>what you guys don t understand is  for us \\nk...</td>\n",
       "      <td>0.000001</td>\n",
       "      <td>0.999999</td>\n",
       "      <td>0.000001</td>\n",
       "      <td>0.999999</td>\n",
       "      <td>0.999999</td>\n",
       "      <td>0.999999</td>\n",
       "      <td>0.999999</td>\n",
       "    </tr>\n",
       "    <tr>\n",
       "      <th>9</th>\n",
       "      <td>1</td>\n",
       "      <td>2</td>\n",
       "      <td>Phoebe</td>\n",
       "      <td>oh  yeah        then i ve already seen this o...</td>\n",
       "      <td>0.000001</td>\n",
       "      <td>0.999999</td>\n",
       "      <td>0.000001</td>\n",
       "      <td>0.000001</td>\n",
       "      <td>0.000001</td>\n",
       "      <td>0.000001</td>\n",
       "      <td>0.000241</td>\n",
       "    </tr>\n",
       "  </tbody>\n",
       "</table>\n",
       "</div>"
      ],
      "text/plain": [
       "   season_number  episode_number   speaker  \\\n",
       "0              1               1  Chandler   \n",
       "1              1               1      Joey   \n",
       "2              1               1    Monica   \n",
       "3              1               1    Phoebe   \n",
       "4              1               1    Rachel   \n",
       "5              1               1      Ross   \n",
       "6              1               2  Chandler   \n",
       "7              1               2      Joey   \n",
       "8              1               2    Monica   \n",
       "9              1               2    Phoebe   \n",
       "\n",
       "                                          dial_clean  marriage      work  \\\n",
       "0   sounds like a date to me     alright  so i m ...  0.000001  0.999999   \n",
       "1   instead of        never had that dream     th...  0.999999  0.999999   \n",
       "2   okay  everybody relax  this is not even a\\nda...  0.999999  0.000001   \n",
       "3   wait  does he eat chalk     just   cause  i d...  0.000001  0.999999   \n",
       "4   oh god monica hi  thank god  i just went to\\n...  0.999999  0.999999   \n",
       "5    hi     i just feel like someone reached down...  0.999999  0.999999   \n",
       "6   yeah  i think for us  kissing is pretty much ...  0.000001  0.999999   \n",
       "7   yeah  right        y serious          are we ...  0.000001  0.000001   \n",
       "8   what you guys don t understand is  for us \\nk...  0.000001  0.999999   \n",
       "9   oh  yeah        then i ve already seen this o...  0.000001  0.999999   \n",
       "\n",
       "     dating      kids    family  hanging out   nothing  \n",
       "0  0.999999  0.999999  0.000001     0.999999  0.999999  \n",
       "1  0.000001  0.000001  0.000001     0.999999  0.000001  \n",
       "2  0.999999  0.000001  0.999999     0.999999  0.000001  \n",
       "3  0.000001  0.000001  0.999999     0.000001  0.000001  \n",
       "4  0.000001  0.000001  0.000001     0.999999  0.000866  \n",
       "5  0.000001  0.000001  0.999999     0.999999  0.999999  \n",
       "6  0.000001  0.000001  0.000001     0.000001  0.999999  \n",
       "7  0.999999  0.000001  0.000001     0.000001  0.000002  \n",
       "8  0.000001  0.999999  0.999999     0.999999  0.999999  \n",
       "9  0.000001  0.000001  0.000001     0.000001  0.000241  "
      ]
     },
     "execution_count": 60,
     "metadata": {},
     "output_type": "execute_result"
    }
   ],
   "source": [
    "topic_df.head(10)"
   ]
  },
  {
   "cell_type": "markdown",
   "metadata": {},
   "source": [
    "## 5. Making Sense of the Data"
   ]
  },
  {
   "cell_type": "code",
   "execution_count": 61,
   "metadata": {},
   "outputs": [
    {
     "data": {
      "text/plain": [
       "Text(0.5, 1.0, 'Count of the different topics discussed')"
      ]
     },
     "execution_count": 61,
     "metadata": {},
     "output_type": "execute_result"
    },
    {
     "data": {
      "image/png": "[encoded data removed]",
      "text/plain": [
       "<Figure size 1008x504 with 1 Axes>"
      ]
     },
     "metadata": {
      "needs_background": "light"
     },
     "output_type": "display_data"
    }
   ],
   "source": [
    "plt.figure(figsize=(14, 7))\n",
    "topic_df.loc[:, 'marriage':'hanging out'].sum().plot.bar()\n",
    "plt.xlabel('Episode Topic', size='13', weight='bold')\n",
    "plt.ylabel('Count', size='13', weight='bold')\n",
    "plt.title('Count of the different topics discussed', size='16', weight='bold')"
   ]
  },
  {
   "cell_type": "code",
   "execution_count": 62,
   "metadata": {},
   "outputs": [
    {
     "data": {
      "image/png": "[encoded data removed]",
      "text/plain": [
       "<Figure size 1080x576 with 1 Axes>"
      ]
     },
     "metadata": {
      "needs_background": "light"
     },
     "output_type": "display_data"
    }
   ],
   "source": [
    "topics = ['marriage', 'work', 'dating', 'kids', 'family', 'hanging out']\n",
    "topic_list_df = []\n",
    "plt.figure(figsize=(15,8))\n",
    "for topic in topics: \n",
    "    topic_df.groupby('season_number')[topic].mean().plot(label = topic)\n",
    "    topic_list_df.append(topic_df.groupby('season_number')[topic].mean())\n",
    "plt.legend(fontsize=14, loc='best')\n",
    "plt.xlabel('Season Number', size='15', weight='bold')\n",
    "plt.ylabel('Average Amount Topic is Discussed/Episode', size='15', weight='bold')\n",
    "plt.xticks(size='14')\n",
    "plt.yticks(size='14')\n",
    "\n",
    "plt.title('Topic Distribution Over Time', size='16', weight='bold')\n",
    "plt.grid()\n",
    "topic_list_df = pd.concat(topic_list_df, axis=1)\n"
   ]
  },
  {
   "cell_type": "code",
   "execution_count": 63,
   "metadata": {},
   "outputs": [
    {
     "data": {
      "text/html": [
       "<div>\n",
       "<style scoped>\n",
       "    .dataframe tbody tr th:only-of-type {\n",
       "        vertical-align: middle;\n",
       "    }\n",
       "\n",
       "    .dataframe tbody tr th {\n",
       "        vertical-align: top;\n",
       "    }\n",
       "\n",
       "    .dataframe thead th {\n",
       "        text-align: right;\n",
       "    }\n",
       "</style>\n",
       "<table border=\"1\" class=\"dataframe\">\n",
       "  <thead>\n",
       "    <tr style=\"text-align: right;\">\n",
       "      <th></th>\n",
       "      <th>season_number</th>\n",
       "      <th>marriage</th>\n",
       "      <th>work</th>\n",
       "      <th>dating</th>\n",
       "      <th>kids</th>\n",
       "      <th>family</th>\n",
       "      <th>hanging out</th>\n",
       "    </tr>\n",
       "  </thead>\n",
       "  <tbody>\n",
       "    <tr>\n",
       "      <th>0</th>\n",
       "      <td>1</td>\n",
       "      <td>0.143940</td>\n",
       "      <td>0.386364</td>\n",
       "      <td>0.196970</td>\n",
       "      <td>0.196970</td>\n",
       "      <td>0.280303</td>\n",
       "      <td>0.462121</td>\n",
       "    </tr>\n",
       "    <tr>\n",
       "      <th>1</th>\n",
       "      <td>3</td>\n",
       "      <td>0.121213</td>\n",
       "      <td>0.431818</td>\n",
       "      <td>0.204546</td>\n",
       "      <td>0.181819</td>\n",
       "      <td>0.318182</td>\n",
       "      <td>0.500000</td>\n",
       "    </tr>\n",
       "    <tr>\n",
       "      <th>2</th>\n",
       "      <td>4</td>\n",
       "      <td>0.177778</td>\n",
       "      <td>0.422222</td>\n",
       "      <td>0.188890</td>\n",
       "      <td>0.222223</td>\n",
       "      <td>0.300000</td>\n",
       "      <td>0.511114</td>\n",
       "    </tr>\n",
       "    <tr>\n",
       "      <th>3</th>\n",
       "      <td>5</td>\n",
       "      <td>0.194445</td>\n",
       "      <td>0.388889</td>\n",
       "      <td>0.287037</td>\n",
       "      <td>0.194445</td>\n",
       "      <td>0.250001</td>\n",
       "      <td>0.518518</td>\n",
       "    </tr>\n",
       "    <tr>\n",
       "      <th>4</th>\n",
       "      <td>6</td>\n",
       "      <td>0.345238</td>\n",
       "      <td>0.309524</td>\n",
       "      <td>0.166667</td>\n",
       "      <td>0.178572</td>\n",
       "      <td>0.202382</td>\n",
       "      <td>0.500000</td>\n",
       "    </tr>\n",
       "    <tr>\n",
       "      <th>5</th>\n",
       "      <td>7</td>\n",
       "      <td>0.452381</td>\n",
       "      <td>0.404762</td>\n",
       "      <td>0.178572</td>\n",
       "      <td>0.321429</td>\n",
       "      <td>0.250000</td>\n",
       "      <td>0.476191</td>\n",
       "    </tr>\n",
       "    <tr>\n",
       "      <th>6</th>\n",
       "      <td>8</td>\n",
       "      <td>0.323530</td>\n",
       "      <td>0.294118</td>\n",
       "      <td>0.333334</td>\n",
       "      <td>0.568627</td>\n",
       "      <td>0.147060</td>\n",
       "      <td>0.411765</td>\n",
       "    </tr>\n",
       "    <tr>\n",
       "      <th>7</th>\n",
       "      <td>9</td>\n",
       "      <td>0.160001</td>\n",
       "      <td>0.440000</td>\n",
       "      <td>0.360000</td>\n",
       "      <td>0.560000</td>\n",
       "      <td>0.200001</td>\n",
       "      <td>0.400000</td>\n",
       "    </tr>\n",
       "    <tr>\n",
       "      <th>8</th>\n",
       "      <td>10</td>\n",
       "      <td>0.200001</td>\n",
       "      <td>0.300000</td>\n",
       "      <td>0.222223</td>\n",
       "      <td>0.422222</td>\n",
       "      <td>0.200001</td>\n",
       "      <td>0.433333</td>\n",
       "    </tr>\n",
       "  </tbody>\n",
       "</table>\n",
       "</div>"
      ],
      "text/plain": [
       "   season_number  marriage      work    dating      kids    family  \\\n",
       "0              1  0.143940  0.386364  0.196970  0.196970  0.280303   \n",
       "1              3  0.121213  0.431818  0.204546  0.181819  0.318182   \n",
       "2              4  0.177778  0.422222  0.188890  0.222223  0.300000   \n",
       "3              5  0.194445  0.388889  0.287037  0.194445  0.250001   \n",
       "4              6  0.345238  0.309524  0.166667  0.178572  0.202382   \n",
       "5              7  0.452381  0.404762  0.178572  0.321429  0.250000   \n",
       "6              8  0.323530  0.294118  0.333334  0.568627  0.147060   \n",
       "7              9  0.160001  0.440000  0.360000  0.560000  0.200001   \n",
       "8             10  0.200001  0.300000  0.222223  0.422222  0.200001   \n",
       "\n",
       "   hanging out  \n",
       "0     0.462121  \n",
       "1     0.500000  \n",
       "2     0.511114  \n",
       "3     0.518518  \n",
       "4     0.500000  \n",
       "5     0.476191  \n",
       "6     0.411765  \n",
       "7     0.400000  \n",
       "8     0.433333  "
      ]
     },
     "execution_count": 63,
     "metadata": {},
     "output_type": "execute_result"
    }
   ],
   "source": [
    "\n",
    "topic_list_df.reset_index()"
   ]
  },
  {
   "cell_type": "code",
   "execution_count": 64,
   "metadata": {},
   "outputs": [],
   "source": [
    "topic_list_df.to_csv('topic_list_df.csv')"
   ]
  },
  {
   "cell_type": "code",
   "execution_count": null,
   "metadata": {},
   "outputs": [],
   "source": []
  }
 ],
 "metadata": {
  "kernelspec": {
   "display_name": "Python 3",
   "language": "python",
   "name": "python3"
  },
  "language_info": {
   "codemirror_mode": {
    "name": "ipython",
    "version": 3
   },
   "file_extension": ".py",
   "mimetype": "text/x-python",
   "name": "python",
   "nbconvert_exporter": "python",
   "pygments_lexer": "ipython3",
   "version": "3.8.5"
  }
 },
 "nbformat": 4,
 "nbformat_minor": 4
}
